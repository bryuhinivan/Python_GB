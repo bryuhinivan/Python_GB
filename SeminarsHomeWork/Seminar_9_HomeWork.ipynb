{
  "nbformat": 4,
  "nbformat_minor": 0,
  "metadata": {
    "colab": {
      "provenance": []
    },
    "kernelspec": {
      "name": "python3",
      "display_name": "Python 3"
    },
    "language_info": {
      "name": "python"
    }
  },
  "cells": [
    {
      "cell_type": "markdown",
      "source": [
        "**Задача 40:** Работать с файлом california_housing_train.csv, который находится в папке sample_data.\n",
        "Определить среднюю стоимость дома, где кол-во людей от 0 до 500 (population)"
      ],
      "metadata": {
        "id": "361AJLKGZvgS"
      }
    },
    {
      "cell_type": "code",
      "source": [
        "import pandas as pd"
      ],
      "metadata": {
        "id": "ArnoUNxbZzOJ"
      },
      "execution_count": 3,
      "outputs": []
    },
    {
      "cell_type": "code",
      "source": [
        "# Читаем\n",
        "df = pd.read_csv('sample_data/california_housing_train.csv')"
      ],
      "metadata": {
        "id": "MK7jnFDqbuMS"
      },
      "execution_count": 4,
      "outputs": []
    },
    {
      "cell_type": "code",
      "source": [
        "# Определить среднюю стоимость дома, где кол-во людей от 0 до 500 (population)\n",
        "# print(df['median_house_value'].mean())\n",
        "df[(df['population'] >= 0) & (df['population'] <= 500)]['median_house_value'].mean()"
      ],
      "metadata": {
        "colab": {
          "base_uri": "https://localhost:8080/"
        },
        "id": "3PJx88bgcxwU",
        "outputId": "ee9b37d5-2909-401e-88ab-476db9b416a7"
      },
      "execution_count": 15,
      "outputs": [
        {
          "output_type": "execute_result",
          "data": {
            "text/plain": [
              "206799.95140186916"
            ]
          },
          "metadata": {},
          "execution_count": 15
        }
      ]
    },
    {
      "cell_type": "markdown",
      "source": [
        "**Задача 42:** Узнать какая максимальная households в зоне минимального значения population"
      ],
      "metadata": {
        "id": "WUssMPsRf0ac"
      }
    },
    {
      "cell_type": "code",
      "source": [
        "df[df['population'] == df['population'].min()]['households'].max()"
      ],
      "metadata": {
        "colab": {
          "base_uri": "https://localhost:8080/"
        },
        "id": "ClQgJMOZf7d-",
        "outputId": "d960e3de-4051-455b-ce6e-6bb8d9196d8e"
      },
      "execution_count": 10,
      "outputs": [
        {
          "output_type": "execute_result",
          "data": {
            "text/plain": [
              "4.0"
            ]
          },
          "metadata": {},
          "execution_count": 10
        }
      ]
    }
  ]
}